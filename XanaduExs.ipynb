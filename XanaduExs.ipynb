{
 "cells": [
  {
   "cell_type": "markdown",
   "metadata": {},
   "source": [
    "# Xanadu Quantum Computing Codebook\n",
    "# Introduction to Quantum Computing"
   ]
  },
  {
   "cell_type": "markdown",
   "metadata": {},
   "source": [
    "SET UP"
   ]
  },
  {
   "cell_type": "code",
   "execution_count": 1,
   "metadata": {},
   "outputs": [],
   "source": [
    "import numpy as np\n",
    "import pennylane as qml"
   ]
  },
  {
   "cell_type": "markdown",
   "metadata": {},
   "source": [
    "## 1.1 Introduction to Qubits"
   ]
  },
  {
   "cell_type": "markdown",
   "metadata": {},
   "source": [
    "### Exercise 1\n",
    "Create an operator (function) that acts on a state that is not normalized to transform it into a normalized state."
   ]
  },
  {
   "cell_type": "code",
   "execution_count": 9,
   "metadata": {},
   "outputs": [
    {
     "name": "stdout",
     "output_type": "stream",
     "text": [
      "Original vector =  [ 2. +1.j  -0.3+0.4j]\n",
      "Normalized vector =  [ 0.87287156+0.43643578j -0.13093073+0.17457431j]\n"
     ]
    }
   ],
   "source": [
    "# Here are the vector representations of |0> and |1>, for convenience\n",
    "ket_0 = np.array([1, 0])\n",
    "ket_1 = np.array([0, 1])\n",
    "\n",
    "def norm_of_vector(alpha,beta):\n",
    "    return np.sqrt(alpha*np.conjugate(alpha)+beta*np.conjugate(beta))\n",
    "\n",
    "def normalize_state(alpha, beta):\n",
    "    \"\"\"Compute a normalized quantum state given arbitrary amplitudes.\n",
    "    \n",
    "    Args:\n",
    "        alpha (complex): The amplitude associated with the |0> state.\n",
    "        beta (complex): The amplitude associated with the |1> state.\n",
    "        \n",
    "    Returns:\n",
    "        array[complex]: A vector (numpy array) with 2 elements that represents\n",
    "        a normalized quantum state.\n",
    "    \"\"\"\n",
    "\n",
    "    ##################\n",
    "    # YOUR CODE HERE #\n",
    "    ##################\n",
    "\n",
    "    # CREATE A VECTOR [a', b'] BASED ON alpha AND beta SUCH THAT |a'|^2 + |b'|^2 = 1\n",
    "    \n",
    "    norm = norm_of_vector(alpha,beta)\n",
    "    \n",
    "    # RETURN A VECTOR\n",
    "    return np.array([alpha/norm, beta/norm])\n",
    "\n",
    "a1 = 2.0 + 1.0j\n",
    "b1 = -0.3 + 0.4j\n",
    "normalized=normalize_state(a1,b1)\n",
    "print(\"Original vector = \",a1*ket_0+b1*ket_1) \n",
    "print(\"Normalized vector = \",normalized[0]*ket_0+normalized[1]*ket_1)"
   ]
  },
  {
   "cell_type": "markdown",
   "metadata": {},
   "source": [
    "### Exercise 2\n",
    "Write a function to compute the inner product between two arbitrary states."
   ]
  },
  {
   "cell_type": "code",
   "execution_count": 19,
   "metadata": {},
   "outputs": [
    {
     "name": "stdout",
     "output_type": "stream",
     "text": [
      "<0|0> = 1\n",
      "<0|1> = 0\n",
      "<1|0> = 0\n",
      "<1|1> = 1\n"
     ]
    }
   ],
   "source": [
    "def inner_product(state_1, state_2):\n",
    "    \"\"\"Compute the inner product between two states.\n",
    "    \n",
    "    Args:\n",
    "        state_1 (array[complex]): A normalized quantum state vector\n",
    "        state_2 (array[complex]): A second normalized quantum state vector\n",
    "        \n",
    "    Returns:\n",
    "        complex: The value of the inner product <state_1 | state_2>.\n",
    "    \"\"\"\n",
    " \n",
    "    ##################\n",
    "    # YOUR CODE HERE #\n",
    "    ##################\n",
    "\n",
    "    # COMPUTE AND RETURN THE INNER PRODUCT\n",
    "    \n",
    "    inprod= np.dot(np.conjugate(state_1),state_2)\n",
    "    \n",
    "\n",
    "    return  inprod\n",
    "\n",
    "\n",
    "# Test your results with this code\n",
    "ket_0 = np.array([1, 0])\n",
    "ket_1 = np.array([0, 1])\n",
    "\n",
    "print(f\"<0|0> = {inner_product(ket_0, ket_0)}\")\n",
    "print(f\"<0|1> = {inner_product(ket_0, ket_1)}\")\n",
    "print(f\"<1|0> = {inner_product(ket_1, ket_0)}\")\n",
    "print(f\"<1|1> = {inner_product(ket_1, ket_1)}\")"
   ]
  },
  {
   "cell_type": "markdown",
   "metadata": {},
   "source": [
    "### Exercise 2\n",
    "Create a function that returns a list of samples of the outcome of observing an arbitrary state, taking into account the probability of measuring states 0 and 1."
   ]
  },
  {
   "cell_type": "code",
   "execution_count": 133,
   "metadata": {},
   "outputs": [
    {
     "name": "stdout",
     "output_type": "stream",
     "text": [
      "Outcome of measuring  100  times:  [0 0 1 0 0 0 0 0 0 0 0 0 0 0 0 0 0 1 0 0 0 1 0 0 0 0 0 0 0 0 0 0 0 0 0 0 0\n",
      " 0 0 0 0 0 1 0 0 1 0 0 0 0 0 0 0 0 0 0 0 0 0 0 0 0 0 0 1 0 0 0 0 0 0 0 0 0\n",
      " 0 0 0 0 0 1 0 0 1 1 0 0 1 0 0 0 0 0 0 0 0 0 0 0 0 0]\n"
     ]
    }
   ],
   "source": [
    "def measure_state(state, num_meas):\n",
    "    \"\"\"Simulate a quantum measurement process.\n",
    "\n",
    "    Args:\n",
    "        state (array[complex]): A normalized qubit state vector. \n",
    "        num_meas (int): The number of measurements to take\n",
    "        \n",
    "    Returns:\n",
    "        array[int]: A set of num_meas samples, 0 or 1, chosen according to the probability \n",
    "        distribution defined by the input state.\n",
    "    \"\"\"\n",
    "\n",
    "    ##################\n",
    "    # YOUR CODE HERE #\n",
    "    ##################\n",
    "    \n",
    "    # COMPUTE THE MEASUREMENT OUTCOME PROBABILITIES\n",
    "\n",
    "    # RETURN A LIST OF SAMPLE MEASUREMENT OUTCOMES\n",
    "    \n",
    "    probs=np.real(np.conjugate(state)*state)\n",
    "    choices=np.random.choice(2,num_meas,p=probs.astype('float'))\n",
    "    return choices\n",
    "\n",
    "ket=np.array([0.87287156+0.43643578j,-0.13093073+0.17457431j])\n",
    "n_samples=100\n",
    "print(\"Outcome of measuring \",n_samples,\" times: \",measure_state(ket,n_samples))"
   ]
  },
  {
   "cell_type": "markdown",
   "metadata": {},
   "source": [
    "### Exercise 4\n",
    "Complete the function below to apply the provided quantum operation U to an input state."
   ]
  },
  {
   "cell_type": "code",
   "execution_count": 140,
   "metadata": {},
   "outputs": [
    {
     "name": "stdout",
     "output_type": "stream",
     "text": [
      "[0.6 0.8]\n"
     ]
    }
   ],
   "source": [
    "#U = np.array([[1, 1], [1, -1]]) / np.sqrt(2)\n",
    "U = np.array([[0, 1], [1, 0]])\n",
    "def apply_u(state):\n",
    "    \"\"\"Apply a quantum operation.\n",
    "\n",
    "    Args:\n",
    "        state (array[complex]): A normalized quantum state vector. \n",
    "        \n",
    "    Returns:\n",
    "        array[complex]: The output state after applying U.\n",
    "    \"\"\"\n",
    "\n",
    "    ##################\n",
    "    # YOUR CODE HERE #\n",
    "    ##################\n",
    "    \n",
    "    # APPLY U TO THE INPUT STATE AND RETURN THE NEW STATE\n",
    "    return np.array([np.dot(U[0],state),np.dot(U[1],state)])\n",
    "\n",
    "ket = np.array([0.8, 0.6])\n",
    "print(apply_u(ket))"
   ]
  },
  {
   "cell_type": "markdown",
   "metadata": {},
   "source": [
    "### Exercise 5\n",
    "Use the functions below to simulate a quantum algorithm that does the following:\n",
    "\n",
    "* Initialize a qubit in state \n",
    "* Apply the provided operation U\n",
    "* Simulate measuring the output state 100 times\n",
    "\n",
    "You'll have to complete a function for initialization, but we've provided functions for the other two."
   ]
  },
  {
   "cell_type": "code",
   "execution_count": 144,
   "metadata": {},
   "outputs": [
    {
     "data": {
      "text/plain": [
       "array([0, 0, 0, 0, 1, 0, 1, 0, 0, 1, 1, 0, 1, 0, 1, 1, 1, 1, 1, 0, 1, 0,\n",
       "       0, 0, 1, 0, 0, 0, 0, 0, 1, 1, 1, 0, 1, 1, 1, 1, 1, 0, 1, 0, 1, 0,\n",
       "       1, 0, 1, 1, 1, 1, 1, 1, 0, 0, 0, 1, 1, 1, 0, 0, 0, 1, 0, 1, 1, 0,\n",
       "       1, 0, 0, 0, 0, 0, 0, 0, 0, 0, 1, 0, 1, 0, 1, 0, 0, 0, 1, 0, 0, 1,\n",
       "       1, 1, 1, 1, 0, 1, 1, 0, 1, 0, 1, 1])"
      ]
     },
     "execution_count": 144,
     "metadata": {},
     "output_type": "execute_result"
    }
   ],
   "source": [
    "U = np.array([[1, 1], [1, -1]]) / np.sqrt(2)\n",
    "\n",
    "def initialize_state():\n",
    "    \"\"\"Prepare a qubit in state |0>.\n",
    "    \n",
    "    Returns:\n",
    "        array[float]: the vector representation of state |0>.\n",
    "    \"\"\"\n",
    "\n",
    "    ##################\n",
    "    # YOUR CODE HERE #\n",
    "    ##################\n",
    "\n",
    "    # PREPARE THE STATE |0>   \n",
    "    return np.array([1, 0])\n",
    "\n",
    "\n",
    "def apply_u(state):\n",
    "    \"\"\"Apply a quantum operation.\"\"\"\n",
    "    return np.dot(U, state)\n",
    "\n",
    "\n",
    "def measure_state(state, num_meas):\n",
    "    \"\"\"Measure a quantum state num_meas times.\"\"\"\n",
    "    p_alpha = np.abs(state[0]) ** 2\n",
    "    p_beta = np.abs(state[1]) ** 2\n",
    "    meas_outcome = np.random.choice([0, 1], p=[p_alpha, p_beta], size=num_meas)\n",
    "    return meas_outcome\n",
    "\n",
    "\n",
    "def quantum_algorithm():\n",
    "    \"\"\"Use the functions above to implement the quantum algorithm described above.\n",
    "    \n",
    "    Try and do so using three lines of code or less!\n",
    "    \n",
    "    Returns:\n",
    "        array[int]: the measurement results after running the algorithm 100 times\n",
    "    \"\"\"\n",
    "\n",
    "    ##################\n",
    "    # YOUR CODE HERE #\n",
    "    ##################\n",
    "\n",
    "    # PREPARE THE STATE, APPLY U, THEN TAKE 100 MEASUREMENT SAMPLES\n",
    "    state=initialize_state()\n",
    "    return measure_state(apply_u(state),100)\n",
    "\n",
    "quantum_algorithm()"
   ]
  },
  {
   "cell_type": "markdown",
   "metadata": {},
   "source": [
    "## 1.2 Quantum Circuits"
   ]
  },
  {
   "cell_type": "markdown",
   "metadata": {},
   "source": [
    "In pseudocode, a quantum function looks like this:"
   ]
  },
  {
   "cell_type": "code",
   "execution_count": null,
   "metadata": {},
   "outputs": [],
   "source": [
    "#import pennylane as qml\n",
    "\n",
    "def my_quantum_function(params):\n",
    "\n",
    "    # Single-qubit operations with no input parameters\n",
    "    qml.Gate1(wires=0)\n",
    "    qml.Gate2(wires=1)\n",
    "\n",
    "    # A single-qubit operation with an input parameter\n",
    "    qml.Gate3(params[0], wires=0)\n",
    "\n",
    "    # Two-qubit operation with no input parameter on wires 0 and 1\n",
    "    qml.TwoQubitGate1(wires=[0, 1])\n",
    "\n",
    "    # Two-qubit operation with an input parameter on wires 0 and 1\n",
    "    qml.TwoQubitGate2(params[1], wires=[0, 1])\n",
    "\n",
    "    # Return the result of a measurement\n",
    "    return qml.Measurement(wires=[0, 1])"
   ]
  },
  {
   "attachments": {
    "image.png": {
     "image/png": "[encoded data removed]"
    }
   },
   "cell_type": "markdown",
   "metadata": {},
   "source": [
    "### Exercise 1\n",
    "The code below is a quantum function with all the gates from the above circuit (which we reproduce here for convenience). However, the gates are out of order! Re-arrange the lines of the function to match the order of operations in the circuit.\n",
    "\n",
    "![image.png](attachment:image.png)"
   ]
  },
  {
   "cell_type": "code",
   "execution_count": 3,
   "metadata": {},
   "outputs": [],
   "source": [
    "def my_circuit(theta, phi): \n",
    "    ##################\n",
    "    # YOUR CODE HERE #\n",
    "    ##################\n",
    "\n",
    "    # REORDER THESE 5 GATES TO MATCH THE CIRCUIT IN THE PICTURE\n",
    "\n",
    "    # qml.CNOT(wires=[0, 1])\n",
    "    # qml.CNOT(wires=[2, 0])\n",
    "    # qml.Hadamard(wires=0)\n",
    "    # qml.RX(theta, wires=2)\n",
    "    # qml.RY(phi, wires=1)\n",
    "    \n",
    "    qml.CNOT(wires=[0, 1])\n",
    "    qml.RX(theta, wires=2)\n",
    "    qml.Hadamard(wires=0)\n",
    "    qml.CNOT(wires=[2, 0])\n",
    "    qml.RY(phi, wires=1)\n",
    "    \n",
    "    # This is the measurement; we return the probabilities of all possible output states\n",
    "    # You'll learn more about what types of measurements are available in a later node\n",
    "    return qml.probs(wires=[0, 1, 2])"
   ]
  },
  {
   "attachments": {
    "image.png": {
     "image/png": "[encoded data removed]"
    }
   },
   "cell_type": "markdown",
   "metadata": {},
   "source": [
    "### Exercise 2\n",
    "Complete the quantum function in the PennyLane code below to implement the following quantum circuit. We'll then construct a QNode, and run the circuit on the provided device.\n",
    "\n",
    "![image.png](attachment:image.png)"
   ]
  },
  {
   "cell_type": "code",
   "execution_count": 6,
   "metadata": {},
   "outputs": [
    {
     "data": {
      "text/plain": [
       "tensor([9.87560268e-01, 0.00000000e+00, 0.00000000e+00, 2.47302134e-03,\n",
       "        2.48960206e-05, 0.00000000e+00, 0.00000000e+00, 9.94181506e-03], requires_grad=True)"
      ]
     },
     "execution_count": 6,
     "metadata": {},
     "output_type": "execute_result"
    }
   ],
   "source": [
    "# This creates a device with three wires on which PennyLane can run computations\n",
    "dev = qml.device(\"default.qubit\", wires=3)\n",
    "\n",
    "\n",
    "def my_circuit(theta, phi, omega):\n",
    "\n",
    "    ##################\n",
    "    # YOUR CODE HERE #\n",
    "    ##################\n",
    "\n",
    "    # IMPLEMENT THE CIRCUIT BY ADDING THE GATES\n",
    "\n",
    "    # Here are two examples, so you can see the format:\n",
    "    # qml.CNOT(wires=[0, 1])\n",
    "    # qml.RX(theta, wires=0)\n",
    "    \n",
    "    qml.RX(theta,wires=0)\n",
    "    qml.RY(phi,wires=1)\n",
    "    qml.RZ(omega,wires=2)\n",
    "    qml.CNOT(wires=[0,1])\n",
    "    qml.CNOT(wires=[1,2])\n",
    "    qml.CNOT(wires=[2,0]) #ORDER IS IMPORTANT!\n",
    "\n",
    "\n",
    "    return qml.probs(wires=[0, 1, 2])\n",
    "\n",
    "\n",
    "# This creates a QNode, binding the function and device\n",
    "my_qnode = qml.QNode(my_circuit, dev)\n",
    "\n",
    "# We set up some values for the input parameters\n",
    "theta, phi, omega = 0.1, 0.2, 0.3\n",
    "\n",
    "# Now we can execute the QNode by calling it like we would a regular function\n",
    "my_qnode(theta, phi, omega)"
   ]
  },
  {
   "cell_type": "markdown",
   "metadata": {},
   "source": [
    "### Exercise 3\n",
    "The quantum function below implements the circuit from the previous exercise. Apply a decorator to the quantum function to construct a QNode, then run it using the provided input parameters."
   ]
  },
  {
   "cell_type": "code",
   "execution_count": 5,
   "metadata": {},
   "outputs": [
    {
     "data": {
      "text/plain": [
       "tensor([9.87560268e-01, 0.00000000e+00, 0.00000000e+00, 2.47302134e-03,\n",
       "        2.48960206e-05, 0.00000000e+00, 0.00000000e+00, 9.94181506e-03], requires_grad=True)"
      ]
     },
     "execution_count": 5,
     "metadata": {},
     "output_type": "execute_result"
    }
   ],
   "source": [
    "dev = qml.device(\"default.qubit\", wires=3)\n",
    "\n",
    "##################\n",
    "# YOUR CODE HERE #\n",
    "##################\n",
    "\n",
    "# DECORATE THE FUNCTION BELOW TO TURN IT INTO A QNODE\n",
    "@qml.qnode(dev)\n",
    "def my_circuit(theta, phi, omega):\n",
    "    qml.RX(theta, wires=0)\n",
    "    qml.RY(phi, wires=1)\n",
    "    qml.RZ(omega, wires=2)\n",
    "    qml.CNOT(wires=[0, 1])\n",
    "    qml.CNOT(wires=[1, 2])\n",
    "    qml.CNOT(wires=[2, 0])\n",
    "    return qml.probs(wires=[0, 1, 2])\n",
    "\n",
    "\n",
    "theta, phi, omega = 0.1, 0.2, 0.3\n",
    "\n",
    "##################\n",
    "# YOUR CODE HERE #\n",
    "##################\n",
    "\n",
    "# RUN THE QNODE WITH THE PROVIDED PARAMETERS\n",
    "\n",
    "\n",
    "my_circuit(theta, phi, omega)"
   ]
  },
  {
   "cell_type": "markdown",
   "metadata": {},
   "source": [
    "### Exercise 4\n",
    "Get the depth of the circuit using \"resource_calculator = qml.specs(my_qnode)\"."
   ]
  },
  {
   "cell_type": "code",
   "execution_count": 9,
   "metadata": {},
   "outputs": [
    {
     "name": "stdout",
     "output_type": "stream",
     "text": [
      "{'resources': Resources(num_wires=3, num_gates=6, gate_types=defaultdict(<class 'int'>, {'RX': 1, 'RY': 1, 'RZ': 1, 'CNOT': 3}), gate_sizes=defaultdict(<class 'int'>, {1: 3, 2: 3}), depth=4, shots=Shots(total_shots=None, shot_vector=())), 'num_observables': 1, 'num_diagonalizing_gates': 0, 'num_trainable_params': 0, 'num_device_wires': 3, 'device_name': 'default.qubit', 'expansion_strategy': 'gradient', 'gradient_options': {}, 'interface': 'auto', 'diff_method': 'best', 'gradient_fn': 'backprop'}\n"
     ]
    }
   ],
   "source": [
    "dev = qml.device(\"default.qubit\", wires=3)\n",
    "\n",
    "def my_circuit(theta, phi, omega):\n",
    "    qml.RX(theta, wires=0)\n",
    "    qml.RY(phi, wires=1)\n",
    "    qml.RZ(omega, wires=2)\n",
    "    qml.CNOT(wires=[0, 1])\n",
    "    qml.CNOT(wires=[1, 2])\n",
    "    qml.CNOT(wires=[2, 0])\n",
    "    return qml.probs(wires=[0, 1, 2])\n",
    "\n",
    "my_qnode = qml.QNode(my_circuit, dev)\n",
    "resource_calculator = qml.specs(my_qnode)\n",
    "print(resource_calculator(theta, phi, omega))"
   ]
  },
  {
   "cell_type": "markdown",
   "metadata": {},
   "source": [
    "## 1.3 Unitary matrices"
   ]
  }
 ],
 "metadata": {
  "kernelspec": {
   "display_name": "xanadu",
   "language": "python",
   "name": "python3"
  },
  "language_info": {
   "codemirror_mode": {
    "name": "ipython",
    "version": 3
   },
   "file_extension": ".py",
   "mimetype": "text/x-python",
   "name": "python",
   "nbconvert_exporter": "python",
   "pygments_lexer": "ipython3",
   "version": "3.10.13"
  }
 },
 "nbformat": 4,
 "nbformat_minor": 2
}
